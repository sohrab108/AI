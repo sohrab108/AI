{
 "cells": [
  {
   "cell_type": "code",
   "execution_count": 1,
   "id": "b2fa7152",
   "metadata": {},
   "outputs": [],
   "source": [
    "import pandas as pd\n",
    "import nltk\n",
    "import matplotlib.pyplot as plt\n",
    "from hazm import *\n",
    "import seaborn as sns\n",
    "import numpy as np\n",
    "from sklearn.model_selection import train_test_split\n",
    "from keras.models import Sequential\n",
    "from keras.layers import Dense\n",
    "from keras.layers import LSTM\n",
    "from keras.preprocessing.text import Tokenizer\n",
    "from keras.utils import pad_sequences\n",
    "df = pd.read_excel(r\"C:\\Users\\EMTOO\\OneDrive\\Desktop\\Sentiment Analysis.xlsx\")\n",
    "# df.to_csv(r\"C:\\Users\\EMTOO\\OneDrive\\Desktop\\Sentiment Analysis.csv\", index=False, encoding='utf-8')\n",
    "# df = pd.read_csv(r\"C:\\Users\\EMTOO\\OneDrive\\Desktop\\Sentiment Analysis.csv\",index_col=0 ,encoding='utf-8')\n",
    "\n",
    "import string\n",
    "\n",
    "\n"
   ]
  },
  {
   "cell_type": "code",
   "execution_count": 2,
   "id": "5d093a61",
   "metadata": {},
   "outputs": [],
   "source": [
    "hazm_lemmatizer=Lemmatizer()\n",
    "hazm_stemmer=Stemmer()"
   ]
  },
  {
   "cell_type": "code",
   "execution_count": 3,
   "id": "89a7c014",
   "metadata": {},
   "outputs": [],
   "source": [
    "\n",
    "# import pandas as pd\n",
    "# df=pd.read_csv(r\"C:\\Users\\EMTOO\\Downloads\\farsi_sentiment_dataset_utf8sig.csv\")\n",
    "# df=pd.DataFrame(df)"
   ]
  },
  {
   "cell_type": "code",
   "execution_count": 4,
   "id": "ca7c495a",
   "metadata": {},
   "outputs": [
    {
     "name": "stdout",
     "output_type": "stream",
     "text": [
      "Index(['text', 'rate'], dtype='object')\n",
      "تعداد ستون: 2\n"
     ]
    }
   ],
   "source": [
    "print(df.columns)\n",
    "print(\"تعداد ستون:\", len(df.columns))\n"
   ]
  },
  {
   "cell_type": "code",
   "execution_count": 5,
   "id": "51c4a79c",
   "metadata": {},
   "outputs": [
    {
     "data": {
      "text/plain": [
       "(78, 2)"
      ]
     },
     "execution_count": 5,
     "metadata": {},
     "output_type": "execute_result"
    }
   ],
   "source": [
    "df.columns=['text','rate']\n",
    "df.shape"
   ]
  },
  {
   "cell_type": "code",
   "execution_count": 6,
   "id": "9de383b4",
   "metadata": {},
   "outputs": [
    {
     "data": {
      "text/plain": [
       "0                          من پر از انرژی و انگیزه هستم\n",
       "1        من در هر لحظه از زندگی‌ام در حال رشد و پیشرفتم\n",
       "2                  من امروز یک فرد موفق و شاد خواهم بود\n",
       "3                        من به قدرت ذهن مثبت ایمان دارم\n",
       "4     من هر روز بیشتر به خودم و توانایی‌هایم اعتماد ...\n",
       "                            ...                        \n",
       "73                         به دستم نرسید اینا دزد هستند\n",
       "74                     این محصول کلاه برداری و دزدی هست\n",
       "75                                    لعنت به سازندگانش\n",
       "76                           شاید یه روزی به دردم بخوره\n",
       "77                                 شاید باز هم خرید کنم\n",
       "Name: text, Length: 78, dtype: object"
      ]
     },
     "execution_count": 6,
     "metadata": {},
     "output_type": "execute_result"
    }
   ],
   "source": [
    "text=df['text']\n",
    "y=[i for i in df['rate']]\n",
    "y = df['rate'] - 1 \n",
    "y= np.array(y)\n",
    "text"
   ]
  },
  {
   "cell_type": "code",
   "execution_count": 7,
   "id": "36e0c528",
   "metadata": {},
   "outputs": [
    {
     "name": "stderr",
     "output_type": "stream",
     "text": [
      "C:\\Users\\EMTOO\\AppData\\Local\\Temp\\ipykernel_23540\\2302293815.py:3: FutureWarning: \n",
      "\n",
      "Passing `palette` without assigning `hue` is deprecated and will be removed in v0.14.0. Assign the `x` variable to `hue` and set `legend=False` for the same effect.\n",
      "\n",
      "  sns.countplot(x=df['rate'], data=df, palette='pastel')\n"
     ]
    },
    {
     "data": {
      "image/png": "[encoded data removed]",
      "text/plain": [
       "<Figure size 600x400 with 1 Axes>"
      ]
     },
     "metadata": {},
     "output_type": "display_data"
    }
   ],
   "source": [
    "sns.set(style=\"whitegrid\")   \n",
    "plt.figure(figsize=(6, 4))\n",
    "sns.countplot(x=df['rate'], data=df, palette='pastel')\n",
    "plt.title(\"#check data embalance\")\n",
    "plt.xlabel(\"Label\")\n",
    "plt.ylabel(\"count of eche rete\") \n",
    "plt.show()"
   ]
  },
  {
   "cell_type": "code",
   "execution_count": 8,
   "id": "71969951",
   "metadata": {},
   "outputs": [
    {
     "name": "stdout",
     "output_type": "stream",
     "text": [
      "[['من', 'پر', 'از', 'انرژی', 'و', 'انگیزه', '#هست'], ['من', 'در', 'هر', 'لحظه', 'از', 'زندگی', 'در', 'حال', 'رشد', 'و', 'پیشرفتم'], ['من', 'امروز', 'یک', 'فرد', 'موفق', 'و', 'شاد', 'بود#است'], ['من', 'به', 'قدرت', 'ذهن', 'مثبت', 'ایمان', 'داشت#دار'], ['من', 'هر', 'روز', 'بیشتر', 'به', 'خودم', 'و', 'توانایی', 'اعتماد', 'کرد#کن'], ['من', 'در', 'قلبم', 'شادی', 'و', 'آرامش', 'داشت#دار'], ['من', 'با', 'انرژی', 'مثبت', '،', 'دنیا', 'را', 'تغییر', 'داد#ده'], ['من', 'لایق', 'خوشبختی', 'و', 'موفقیت', '#هست'], ['صد', 'درصد', 'توصیه', 'کرد#کن', '،', 'کیفیت', 'بی\\u200cنظیره', '.'], ['به', 'موقع', 'رسید', '،', 'بسته\\u200cبندی', 'عالی', '،', 'خود', 'محصول', 'خیلی', 'خوبه', '.'], ['واقعا', 'از', 'خرید#خر', 'راضی', '،', 'همه', 'چی', 'مطابق', 'انتظار', 'بود#است', '.'], ['نسبت', 'به', 'قیمت', 'خیلی', 'ارزش', 'خرید', 'داره', '.'], ['حتماً', 'دوباره', 'از', 'همین', 'فروشنده', 'خرید', 'کرد#کن', '.'], ['خیلی', 'شیک', 'و', 'باکیفیته', '،', 'دقیقاً', 'همونی', 'بود#است', 'که', 'خواست#خواه'], ['یه', 'خرید', 'عالی', '،', 'بهتر', 'از', 'چیزی', 'که', 'فکر', 'کرد#کن', '!'], ['از', 'وقتی', 'خریدمش', 'کلی', 'کاشت#کار', 'راحت', 'شده', '.'], ['اصلاً', 'اون', 'چیزی', 'که', 'تو', 'عکس', 'نشون', 'داده', 'بودن', 'بود#است'], ['کیفیت', 'خیلی', 'پایین', 'از', 'انتظارمه', '.'], ['بعد', 'از', 'دو', 'روز', 'خراب', 'شد#شو', '،', 'اصلاً', 'پیشنهاد', 'کرد#کن', '.'], ['کاش', 'خرید#خر', '،', 'پشیمونم', 'واقعاً', '.'], ['بسته\\u200cبندی', 'افتضاح', 'بود#است', 'و', 'محصول', 'هم', 'آسیب', 'دید#بین', '.'], ['پشتیبانی', 'جواب', 'نمی\\u200cده', '،', 'دیگه', 'از', 'این', 'برد#بر', 'خرید#خر', '.'], ['نه', 'به', 'درد', 'می\\u200cخوره', '،', 'نه', 'حتی', 'ظاهر', 'خوبی', 'داره', '.'], ['انگار', 'محصول', 'دست', 'دوم', 'برام', 'فرستادن', '.'], ['محصول', 'بدی', 'نیست', 'ولی', 'اون\\u200cقدرا', 'هم', 'که', 'همه', 'تعریف', 'می\\u200cکنن', 'خوب', 'نیست', '.'], ['نسبت', 'به', 'قیمت', 'متوسطه', '،', 'نه', 'عالی', 'نه', 'افتضاح', '.'], ['تجربه', 'خرید', 'خاصی', 'داشت#دار', '،', 'معمولی', 'بود#است', '.'], ['کیفیت', 'خوبه', 'ولی', 'بسته\\u200cبندی', 'ضعیف', 'بود#است', '.'], ['چند', 'روزه', 'داشت#دار', 'استفاده', 'کرد#کن', '،', 'هنوز', 'نمی\\u200cدونم', 'خوبه', 'یا', 'نه', '.'], ['برای', 'استفاده', 'سبک', 'بد', 'نیست', '،', 'ولی', 'کارهای', 'سنگین', 'نه', '.'], ['محصول', 'خوبی', 'بود#است', 'و', 'کارمو', 'راه', 'انداخت#انداز', '.'], ['راضی', '،', 'همون', 'چیزی', 'بود#است', 'که', 'انتظار', 'داشت#دار', '.'], ['قیمت', 'مناسبه', 'و', 'کیفیت', 'هم', 'قابل', 'قبوله', '.'], ['تا', 'الان', 'مشکل', 'نداشته', '،', 'خوب', 'کار', 'می\\u200cکنه', '.'], ['ظاهر', 'قشنگه', 'و', 'بسته\\u200cبند', 'خوب', 'بود#است', '.'], ['برای', 'استفاده', 'روزمره', 'گزینه', 'خوبیه', '.'], ['نسبت', 'به', 'چیزی', 'که', 'فکر', 'کرد#کن', 'بهتر', 'بود#است'], ['خوشحال', 'از', 'خرید#خر', '،', 'ولی', 'عالی', 'نیست', '.'], ['به', 'موقع', 'رسید', 'و', 'سالم', 'بود#است', '،', 'ممنون', '.'], ['چندان', 'ویژگی', 'خاصی', 'نداره', '،', 'ولی', 'مفید', 'و', 'کارآمده', '.'], ['انتظار', 'بیشتری', 'داشت#دار', 'ولی', 'قابل', 'تحمله', '.'], ['جنس', 'اون\\u200cقدری', 'که', 'فکر', 'کرد#کن', 'خوب', 'نیست', '.'], ['یه', 'سری', 'مشکلات', 'کوچیک', 'داره', 'که', 'اذیت\\u200cکننده\\u200cست', '.'], ['ظاهر', 'خوبه', 'ولی', 'کارایی', 'متوسطه', '.'], ['کیفیت', 'پایینه', 'ولی', 'قابل', 'استفاده\\u200cست', '.'], ['بسته\\u200cبند', 'ضعیف', 'بود#است', '،', 'ولی', 'خود', 'محصول', 'سالمه', '.'], ['تا', 'حدی', 'با', 'توضیحات', 'سایت', 'فرق', 'داشت', '.'], ['برای', 'این', 'قیمت', 'انتظار', 'بیشتری', 'داشت#دار', '.'], ['کارمو', 'راه', 'می\\u200cندازه', 'ولی', 'حس', 'خوبی', 'بهش', 'داشت#دار', '.'], ['در', 'کل', 'بد', 'نیست', 'ولی', 'دوباره', 'نمی\\u200cخرمش', '.'], ['هی', 'خوبه', 'ها', 'ولی', 'عالی', 'نیست'], ['نظری', 'داشت#دار'], ['نمیدونم', 'چطور', 'توصیف', 'کرد#کن'], ['وحشتناک', 'بد'], ['مزخرف', 'تمام'], ['حال', 'بهم', 'زن'], ['خوب', 'و', 'قابل', 'قبول', 'بود#است', 'نسبتا'], ['خیلی', 'دوس', 'داشت#دار', 'خوب', 'بود#است', 'به', 'نظزم'], ['نسبتا', 'بد', 'بود#است'], ['کمی', 'با', 'انتظار', 'فرق', 'داشت', 'اما', 'جالب', 'بود#است'], ['بدترین', 'محصول', 'عمرم'], ['بدترین', 'بود#است'], ['بهترین', 'بود#است'], ['فوق', 'العاده', 'و', 'عالی'], ['متوسط'], ['بهتر', 'از', 'چیزی', 'بود#است', 'که', 'فکر', 'میکردم', 'ولی', 'میتونست', 'از', 'این', 'بهتر', 'باشه'], ['دیگه', 'نمیخرم', 'همچین', 'چیزی', 'رو'], ['میشد', 'بیشتر', 'رو', 'این', 'محصول', 'کار', 'بشه'], ['معمولی', 'بود#است', 'اصلا', 'خاص', 'بود#است'], ['خیلی', 'عادی'], ['محصولی', 'خاص', 'اما', 'ایراد', 'هم', 'داره'], ['هم', 'خوبی', 'هایی', 'داره', 'و', 'هم', 'بدی', 'هایی'], ['جالب', 'بود#است'], ['به', 'دستم', 'رسید#رس', 'اینا', 'دزد', '#هست'], ['این', 'محصول', 'کلاه', 'برداری', 'و', 'دزدی', 'هست'], ['لعنت', 'به', 'سازندگانش'], ['شاید', 'یه', 'روزید#روز', 'به', 'دردم', 'بخوره'], ['شاید', 'باز', 'هم', 'خرید', 'کرد#کن']]\n"
     ]
    }
   ],
   "source": [
    "\n",
    "pre_text=[]\n",
    "chunck=[]\n",
    "# def preprocesse(text):\n",
    "for sent in text:\n",
    "    bag=word_tokenize(sent)\n",
    "    chunck=[]\n",
    "    for token in bag:\n",
    "        # stem_word=hazm_stemmer.stem(token)\n",
    "        lemi_bag=hazm_lemmatizer.lemmatize(token) #stem_word)\n",
    "        chunck.append(lemi_bag)\n",
    "    pre_text.append(chunck)\n",
    "print(pre_text)\n"
   ]
  },
  {
   "cell_type": "code",
   "execution_count": 9,
   "id": "e6c6b02a",
   "metadata": {},
   "outputs": [
    {
     "name": "stdout",
     "output_type": "stream",
     "text": [
      "[['من', 'پر', 'از', 'انرژی', 'و', 'انگیزه', '#هست'], ['من', 'در', 'هر', 'لحظه', 'از', 'زندگی', 'در', 'حال', 'رشد', 'و', 'پیشرفتم'], ['من', 'امروز', 'یک', 'فرد', 'موفق', 'و', 'شاد', 'بود#است'], ['من', 'به', 'قدرت', 'ذهن', 'مثبت', 'ایمان', 'داشت#دار'], ['من', 'هر', 'روز', 'بیشتر', 'به', 'خودم', 'و', 'توانایی', 'اعتماد', 'کرد#کن'], ['من', 'در', 'قلبم', 'شادی', 'و', 'آرامش', 'داشت#دار'], ['من', 'با', 'انرژی', 'مثبت', 'دنیا', 'را', 'تغییر', 'داد#ده'], ['من', 'لایق', 'خوشبختی', 'و', 'موفقیت', '#هست'], ['صد', 'درصد', 'توصیه', 'کرد#کن', 'کیفیت', 'بی\\u200cنظیره'], ['به', 'موقع', 'رسید', 'بسته\\u200cبندی', 'عالی', 'خود', 'محصول', 'خیلی', 'خوبه'], ['واقعا', 'از', 'خرید#خر', 'راضی', 'همه', 'چی', 'مطابق', 'انتظار', 'بود#است'], ['نسبت', 'به', 'قیمت', 'خیلی', 'ارزش', 'خرید', 'داره'], ['حتماً', 'دوباره', 'از', 'همین', 'فروشنده', 'خرید', 'کرد#کن'], ['خیلی', 'شیک', 'و', 'باکیفیته', 'دقیقاً', 'همونی', 'بود#است', 'که', 'خواست#خواه'], ['یه', 'خرید', 'عالی', 'بهتر', 'از', 'چیزی', 'که', 'فکر', 'کرد#کن'], ['از', 'وقتی', 'خریدمش', 'کلی', 'کاشت#کار', 'راحت', 'شده'], ['اصلاً', 'اون', 'چیزی', 'که', 'تو', 'عکس', 'نشون', 'داده', 'بودن', 'بود#است'], ['کیفیت', 'خیلی', 'پایین', 'از', 'انتظارمه'], ['بعد', 'از', 'دو', 'روز', 'خراب', 'شد#شو', 'اصلاً', 'پیشنهاد', 'کرد#کن'], ['کاش', 'خرید#خر', 'پشیمونم', 'واقعاً'], ['بسته\\u200cبندی', 'افتضاح', 'بود#است', 'و', 'محصول', 'هم', 'آسیب', 'دید#بین'], ['پشتیبانی', 'جواب', 'نمی\\u200cده', 'دیگه', 'از', 'این', 'برد#بر', 'خرید#خر'], ['نه', 'به', 'درد', 'می\\u200cخوره', 'نه', 'حتی', 'ظاهر', 'خوبی', 'داره'], ['انگار', 'محصول', 'دست', 'دوم', 'برام', 'فرستادن'], ['محصول', 'بدی', 'نیست', 'ولی', 'اون\\u200cقدرا', 'هم', 'که', 'همه', 'تعریف', 'می\\u200cکنن', 'خوب', 'نیست'], ['نسبت', 'به', 'قیمت', 'متوسطه', 'نه', 'عالی', 'نه', 'افتضاح'], ['تجربه', 'خرید', 'خاصی', 'داشت#دار', 'معمولی', 'بود#است'], ['کیفیت', 'خوبه', 'ولی', 'بسته\\u200cبندی', 'ضعیف', 'بود#است'], ['چند', 'روزه', 'داشت#دار', 'استفاده', 'کرد#کن', 'هنوز', 'نمی\\u200cدونم', 'خوبه', 'یا', 'نه'], ['برای', 'استفاده', 'سبک', 'بد', 'نیست', 'ولی', 'کارهای', 'سنگین', 'نه'], ['محصول', 'خوبی', 'بود#است', 'و', 'کارمو', 'راه', 'انداخت#انداز'], ['راضی', 'همون', 'چیزی', 'بود#است', 'که', 'انتظار', 'داشت#دار'], ['قیمت', 'مناسبه', 'و', 'کیفیت', 'هم', 'قابل', 'قبوله'], ['تا', 'الان', 'مشکل', 'نداشته', 'خوب', 'کار', 'می\\u200cکنه'], ['ظاهر', 'قشنگه', 'و', 'بسته\\u200cبند', 'خوب', 'بود#است'], ['برای', 'استفاده', 'روزمره', 'گزینه', 'خوبیه'], ['نسبت', 'به', 'چیزی', 'که', 'فکر', 'کرد#کن', 'بهتر', 'بود#است'], ['خوشحال', 'از', 'خرید#خر', 'ولی', 'عالی', 'نیست'], ['به', 'موقع', 'رسید', 'و', 'سالم', 'بود#است', 'ممنون'], ['چندان', 'ویژگی', 'خاصی', 'نداره', 'ولی', 'مفید', 'و', 'کارآمده'], ['انتظار', 'بیشتری', 'داشت#دار', 'ولی', 'قابل', 'تحمله'], ['جنس', 'اون\\u200cقدری', 'که', 'فکر', 'کرد#کن', 'خوب', 'نیست'], ['یه', 'سری', 'مشکلات', 'کوچیک', 'داره', 'که', 'اذیت\\u200cکننده\\u200cست'], ['ظاهر', 'خوبه', 'ولی', 'کارایی', 'متوسطه'], ['کیفیت', 'پایینه', 'ولی', 'قابل', 'استفاده\\u200cست'], ['بسته\\u200cبند', 'ضعیف', 'بود#است', 'ولی', 'خود', 'محصول', 'سالمه'], ['تا', 'حدی', 'با', 'توضیحات', 'سایت', 'فرق', 'داشت'], ['برای', 'این', 'قیمت', 'انتظار', 'بیشتری', 'داشت#دار'], ['کارمو', 'راه', 'می\\u200cندازه', 'ولی', 'حس', 'خوبی', 'بهش', 'داشت#دار'], ['در', 'کل', 'بد', 'نیست', 'ولی', 'دوباره', 'نمی\\u200cخرمش'], ['هی', 'خوبه', 'ها', 'ولی', 'عالی', 'نیست'], ['نظری', 'داشت#دار'], ['نمیدونم', 'چطور', 'توصیف', 'کرد#کن'], ['وحشتناک', 'بد'], ['مزخرف', 'تمام'], ['حال', 'بهم', 'زن'], ['خوب', 'و', 'قابل', 'قبول', 'بود#است', 'نسبتا'], ['خیلی', 'دوس', 'داشت#دار', 'خوب', 'بود#است', 'به', 'نظزم'], ['نسبتا', 'بد', 'بود#است'], ['کمی', 'با', 'انتظار', 'فرق', 'داشت', 'اما', 'جالب', 'بود#است'], ['بدترین', 'محصول', 'عمرم'], ['بدترین', 'بود#است'], ['بهترین', 'بود#است'], ['فوق', 'العاده', 'و', 'عالی'], ['متوسط'], ['بهتر', 'از', 'چیزی', 'بود#است', 'که', 'فکر', 'میکردم', 'ولی', 'میتونست', 'از', 'این', 'بهتر', 'باشه'], ['دیگه', 'نمیخرم', 'همچین', 'چیزی', 'رو'], ['میشد', 'بیشتر', 'رو', 'این', 'محصول', 'کار', 'بشه'], ['معمولی', 'بود#است', 'اصلا', 'خاص', 'بود#است'], ['خیلی', 'عادی'], ['محصولی', 'خاص', 'اما', 'ایراد', 'هم', 'داره'], ['هم', 'خوبی', 'هایی', 'داره', 'و', 'هم', 'بدی', 'هایی'], ['جالب', 'بود#است'], ['به', 'دستم', 'رسید#رس', 'اینا', 'دزد', '#هست'], ['این', 'محصول', 'کلاه', 'برداری', 'و', 'دزدی', 'هست'], ['لعنت', 'به', 'سازندگانش'], ['شاید', 'یه', 'روزید#روز', 'به', 'دردم', 'بخوره'], ['شاید', 'باز', 'هم', 'خرید', 'کرد#کن']]\n"
     ]
    }
   ],
   "source": [
    "punctuations = set(['.', '،', '!', '?', '؟', ':', ';', '(', ')', '[', ']', '«', '»',',',\",\"])\n",
    "X=[]\n",
    "for i in pre_text:\n",
    "    filtered_tokens = [token for token in i if token not in punctuations] \n",
    "    X.append(filtered_tokens)\n",
    "print(X)\n"
   ]
  },
  {
   "cell_type": "code",
   "execution_count": 10,
   "id": "3c45894b",
   "metadata": {},
   "outputs": [
    {
     "name": "stdout",
     "output_type": "stream",
     "text": [
      "[ 0  0  0  0  0  0  0  0  0  0  0  0  0  0  0  0  0  0  0  0  0  0  0  0\n",
      "  0  0  0  0  0  0  0  0  0  0  0  0  0  0  0  0  0  0  0 14 78  5 46  3\n",
      " 79 27]\n",
      "[[14, 78, 5, 46, 3, 79, 27], [14, 28, 47, 80, 5, 81, 28, 48, 82, 3, 83], [14, 84, 85, 86, 87, 3, 88, 1, 2], [14, 6, 89, 90, 49, 91, 7, 8], [14, 47, 36, 50, 6, 92, 3, 93, 94, 9, 10], [14, 28, 95, 96, 3, 97, 7, 8], [14, 37, 46, 49, 98, 99, 100, 101, 102], [14, 103, 104, 3, 105, 27], [106, 107, 108, 9, 10, 22, 109], [6, 51, 38, 39, 17, 52, 11, 18, 23], [110, 5, 12, 29, 53, 54, 111, 112, 24, 1, 2], [40, 6, 30, 18, 113, 12, 25], [114, 55, 5, 115, 116, 12, 9, 10], [18, 117, 3, 118, 119, 120, 1, 2, 13, 121, 122], [41, 12, 17, 31, 5, 19, 13, 32, 9, 10], [5, 123, 124, 125, 126, 42, 127, 128], [56, 129, 19, 13, 130, 131, 132, 133, 134, 1, 2], [22, 18, 135, 5, 136], [137, 5, 138, 36, 139, 140, 141, 56, 142, 9, 10], [143, 12, 29, 144, 145], [39, 57, 1, 2, 3, 11, 15, 146, 147, 148], [149, 150, 151, 58, 5, 26, 152, 153, 12, 29], [20, 6, 154, 155, 20, 156, 43, 33, 25], [157, 11, 158, 159, 160, 161], [11, 59, 16, 4, 162, 15, 13, 54, 163, 164, 21, 16], [40, 6, 30, 60, 20, 17, 20, 57], [165, 12, 61, 7, 8, 62, 1, 2], [22, 23, 4, 39, 63, 1, 2], [166, 167, 7, 8, 44, 9, 10, 168, 169, 23, 170, 20], [45, 44, 171, 34, 16, 4, 172, 173, 20], [11, 33, 1, 2, 3, 64, 65, 174, 175], [53, 176, 19, 1, 2, 13, 24, 7, 8], [30, 177, 3, 22, 15, 35, 178], [66, 179, 180, 181, 21, 42, 182], [43, 183, 3, 67, 21, 1, 2], [45, 44, 184, 185, 186], [40, 6, 19, 13, 32, 9, 10, 31, 1, 2], [187, 5, 12, 29, 4, 17, 16], [6, 51, 38, 3, 188, 1, 2, 189], [190, 191, 61, 192, 4, 193, 3, 194], [24, 68, 7, 8, 4, 35, 195], [196, 197, 13, 32, 9, 10, 21, 16], [41, 198, 199, 200, 25, 13, 201], [43, 23, 4, 202, 60], [22, 203, 4, 35, 204], [67, 63, 1, 2, 4, 52, 11, 205], [66, 206, 37, 207, 208, 69, 7], [45, 26, 30, 24, 68, 7, 8], [64, 65, 209, 4, 210, 33, 211, 7, 8], [28, 212, 34, 16, 4, 55, 213], [214, 23, 215, 4, 17, 16], [216, 7, 8], [217, 218, 219, 9, 10], [220, 34], [221, 222], [48, 223, 224], [21, 3, 35, 225, 1, 2, 70], [18, 226, 7, 8, 21, 1, 2, 6, 227], [70, 34, 1, 2], [228, 37, 24, 69, 7, 71, 72, 1, 2], [73, 11, 229], [73, 1, 2], [230, 1, 2], [231, 232, 3, 17], [233], [31, 5, 19, 1, 2, 13, 32, 234, 4, 235, 5, 26, 31, 236], [58, 237, 238, 19, 74], [239, 50, 74, 26, 11, 42, 240], [62, 1, 2, 241, 75, 1, 2], [18, 242], [243, 75, 71, 244, 15, 25], [15, 33, 76, 25, 3, 15, 59, 76], [72, 1, 2], [6, 245, 38, 246, 247, 248, 27], [26, 11, 249, 250, 3, 251, 27], [252, 6, 253], [77, 41, 254, 36, 6, 255, 256], [77, 257, 15, 12, 9, 10]]\n"
     ]
    }
   ],
   "source": [
    "\n",
    "max_words = 10000  \n",
    "max_len= 50 \n",
    "tokenizer = Tokenizer(num_words=max_words)  \n",
    "tokenizer.fit_on_texts([' '.join(x) for x in X])  \n",
    "X_seq = tokenizer.texts_to_sequences([' '.join(x) for x in X])  \n",
    "X_pad = pad_sequences(X_seq, maxlen=max_len)  \n",
    "print(X_pad[0])\n",
    "print(X_seq)\n"
   ]
  },
  {
   "cell_type": "code",
   "execution_count": 11,
   "id": "e17866fa",
   "metadata": {},
   "outputs": [
    {
     "data": {
      "image/png": "[encoded data removed]",
      "text/plain": [
       "<Figure size 640x480 with 1 Axes>"
      ]
     },
     "metadata": {},
     "output_type": "display_data"
    }
   ],
   "source": [
    "lengths = [len(seq) for seq in X_seq]\n",
    "plt.hist(lengths, bins=50)\n",
    "plt.show()\n"
   ]
  },
  {
   "cell_type": "code",
   "execution_count": 12,
   "id": "f2b9496c",
   "metadata": {},
   "outputs": [],
   "source": [
    "X_train,X_test,y_train,y_test=train_test_split(X_pad,y,test_size=0.33,random_state=42)\n",
    "# model=Sequential()\n",
    "# model.add(Dense(128,activation=\"relu\"))\n",
    "# model.add(Dense(64,activation=\"relu\"))\n",
    "# model.add(Dense(5,activation=\"softmax\"))\n",
    "# model.compile(optimizer=\"adam\",loss=\"sparse_categorical_crossentropy\",metrics=[\"accuracy\"],)\n"
   ]
  },
  {
   "cell_type": "code",
   "execution_count": 13,
   "id": "5a2de9dc",
   "metadata": {},
   "outputs": [
    {
     "name": "stdout",
     "output_type": "stream",
     "text": [
      "Model: \"sequential\"\n",
      "_________________________________________________________________\n",
      " Layer (type)                Output Shape              Param #   \n",
      "=================================================================\n",
      " embedding (Embedding)       (None, 50, 128)           1280000   \n",
      "                                                                 \n",
      " lstm (LSTM)                 (None, 64)                49408     \n",
      "                                                                 \n",
      " dropout (Dropout)           (None, 64)                0         \n",
      "                                                                 \n",
      " dense (Dense)               (None, 64)                4160      \n",
      "                                                                 \n",
      " dense_1 (Dense)             (None, 5)                 325       \n",
      "                                                                 \n",
      "=================================================================\n",
      "Total params: 1,333,893\n",
      "Trainable params: 1,333,893\n",
      "Non-trainable params: 0\n",
      "_________________________________________________________________\n"
     ]
    }
   ],
   "source": [
    "from keras.models import Sequential\n",
    "from keras.layers import Embedding, LSTM, Dense, Dropout\n",
    "\n",
    "max_words = 10000   # تعداد واژه‌های منحصربه‌فرد\n",
    "max_len = 50        # طول دنباله (پدینگ)\n",
    "\n",
    "model = Sequential()\n",
    "model.add(Embedding(input_dim=max_words, output_dim=128, input_length=max_len))\n",
    "model.add(LSTM(64, return_sequences=False))   # می‌تونی return_sequences=True بزاری اگه LSTM دوم هم می‌خوای\n",
    "model.add(Dropout(0.3))\n",
    "model.add(Dense(64, activation=\"relu\"))\n",
    "model.add(Dense(5, activation=\"softmax\"))   # چون 5 کلاس داری\n",
    "\n",
    "model.compile(optimizer=\"adam\", \n",
    "              loss=\"sparse_categorical_crossentropy\", \n",
    "              metrics=[\"accuracy\"])\n",
    "\n",
    "model.summary()\n"
   ]
  },
  {
   "cell_type": "code",
   "execution_count": 14,
   "id": "dc2e7a01",
   "metadata": {},
   "outputs": [
    {
     "name": "stdout",
     "output_type": "stream",
     "text": [
      "Epoch 1/200\n",
      "6/6 [==============================] - 1s 14ms/step - loss: 1.6103 - accuracy: 0.1923\n",
      "Epoch 2/200\n",
      "6/6 [==============================] - 0s 15ms/step - loss: 1.5981 - accuracy: 0.4423\n",
      "Epoch 3/200\n",
      "6/6 [==============================] - 0s 13ms/step - loss: 1.5867 - accuracy: 0.5769\n",
      "Epoch 4/200\n",
      "6/6 [==============================] - 0s 12ms/step - loss: 1.5732 - accuracy: 0.6538\n",
      "Epoch 5/200\n",
      "6/6 [==============================] - 0s 13ms/step - loss: 1.5479 - accuracy: 0.6923\n",
      "Epoch 6/200\n",
      "6/6 [==============================] - 0s 13ms/step - loss: 1.5313 - accuracy: 0.5769\n",
      "Epoch 7/200\n",
      "6/6 [==============================] - 0s 13ms/step - loss: 1.4701 - accuracy: 0.7115\n",
      "Epoch 8/200\n",
      "6/6 [==============================] - 0s 12ms/step - loss: 1.4308 - accuracy: 0.6923\n",
      "Epoch 9/200\n",
      "6/6 [==============================] - 0s 14ms/step - loss: 1.2897 - accuracy: 0.7308\n",
      "Epoch 10/200\n",
      "6/6 [==============================] - 0s 13ms/step - loss: 1.2002 - accuracy: 0.6346\n",
      "Epoch 11/200\n",
      "6/6 [==============================] - 0s 12ms/step - loss: 1.0437 - accuracy: 0.6923\n",
      "Epoch 12/200\n",
      "6/6 [==============================] - 0s 13ms/step - loss: 0.8130 - accuracy: 0.8462\n",
      "Epoch 13/200\n",
      "6/6 [==============================] - 0s 13ms/step - loss: 0.8199 - accuracy: 0.6538\n",
      "Epoch 14/200\n",
      "6/6 [==============================] - 0s 12ms/step - loss: 0.6301 - accuracy: 0.7692\n",
      "Epoch 15/200\n",
      "6/6 [==============================] - 0s 13ms/step - loss: 0.5063 - accuracy: 0.9038\n",
      "Epoch 16/200\n",
      "6/6 [==============================] - 0s 15ms/step - loss: 0.4140 - accuracy: 0.9423\n",
      "Epoch 17/200\n",
      "6/6 [==============================] - 0s 13ms/step - loss: 0.3276 - accuracy: 0.9423\n",
      "Epoch 18/200\n",
      "6/6 [==============================] - 0s 12ms/step - loss: 0.2190 - accuracy: 0.9808\n",
      "Epoch 19/200\n",
      "6/6 [==============================] - 0s 13ms/step - loss: 0.2179 - accuracy: 0.9808\n",
      "Epoch 20/200\n",
      "6/6 [==============================] - 0s 12ms/step - loss: 0.1757 - accuracy: 0.9808\n",
      "Epoch 21/200\n",
      "6/6 [==============================] - 0s 15ms/step - loss: 0.1536 - accuracy: 0.9615\n",
      "Epoch 22/200\n",
      "6/6 [==============================] - 0s 14ms/step - loss: 0.0759 - accuracy: 1.0000\n",
      "Epoch 23/200\n",
      "6/6 [==============================] - 0s 13ms/step - loss: 0.0517 - accuracy: 1.0000\n",
      "Epoch 24/200\n",
      "6/6 [==============================] - 0s 13ms/step - loss: 0.0525 - accuracy: 1.0000\n",
      "Epoch 25/200\n",
      "6/6 [==============================] - 0s 13ms/step - loss: 0.0337 - accuracy: 1.0000\n",
      "Epoch 26/200\n",
      "6/6 [==============================] - 0s 13ms/step - loss: 0.0322 - accuracy: 1.0000\n",
      "Epoch 27/200\n",
      "6/6 [==============================] - 0s 13ms/step - loss: 0.0307 - accuracy: 1.0000\n",
      "Epoch 28/200\n",
      "6/6 [==============================] - 0s 14ms/step - loss: 0.0190 - accuracy: 1.0000\n",
      "Epoch 29/200\n",
      "6/6 [==============================] - 0s 13ms/step - loss: 0.0149 - accuracy: 1.0000\n",
      "Epoch 30/200\n",
      "6/6 [==============================] - 0s 13ms/step - loss: 0.0164 - accuracy: 1.0000\n",
      "Epoch 31/200\n",
      "6/6 [==============================] - 0s 13ms/step - loss: 0.0185 - accuracy: 1.0000\n",
      "Epoch 32/200\n",
      "6/6 [==============================] - 0s 13ms/step - loss: 0.0133 - accuracy: 1.0000\n",
      "Epoch 33/200\n",
      "6/6 [==============================] - 0s 16ms/step - loss: 0.0126 - accuracy: 1.0000\n",
      "Epoch 34/200\n",
      "6/6 [==============================] - 0s 13ms/step - loss: 0.0413 - accuracy: 1.0000\n",
      "Epoch 35/200\n",
      "6/6 [==============================] - 0s 13ms/step - loss: 0.0359 - accuracy: 1.0000\n",
      "Epoch 36/200\n",
      "6/6 [==============================] - 0s 13ms/step - loss: 0.0105 - accuracy: 1.0000\n",
      "Epoch 37/200\n",
      "6/6 [==============================] - 0s 13ms/step - loss: 0.0114 - accuracy: 1.0000\n",
      "Epoch 38/200\n",
      "6/6 [==============================] - 0s 13ms/step - loss: 0.0149 - accuracy: 1.0000\n",
      "Epoch 39/200\n",
      "6/6 [==============================] - 0s 14ms/step - loss: 0.0063 - accuracy: 1.0000\n",
      "Epoch 40/200\n",
      "6/6 [==============================] - 0s 13ms/step - loss: 0.0054 - accuracy: 1.0000\n",
      "Epoch 41/200\n",
      "6/6 [==============================] - 0s 13ms/step - loss: 0.0057 - accuracy: 1.0000\n",
      "Epoch 42/200\n",
      "6/6 [==============================] - 0s 13ms/step - loss: 0.0057 - accuracy: 1.0000\n",
      "Epoch 43/200\n",
      "6/6 [==============================] - 0s 12ms/step - loss: 0.0049 - accuracy: 1.0000\n",
      "Epoch 44/200\n",
      "6/6 [==============================] - 0s 13ms/step - loss: 0.0030 - accuracy: 1.0000\n",
      "Epoch 45/200\n",
      "6/6 [==============================] - 0s 13ms/step - loss: 0.0035 - accuracy: 1.0000\n",
      "Epoch 46/200\n",
      "6/6 [==============================] - 0s 13ms/step - loss: 0.0029 - accuracy: 1.0000\n",
      "Epoch 47/200\n",
      "6/6 [==============================] - 0s 13ms/step - loss: 0.0031 - accuracy: 1.0000\n",
      "Epoch 48/200\n",
      "6/6 [==============================] - 0s 12ms/step - loss: 0.0035 - accuracy: 1.0000\n",
      "Epoch 49/200\n",
      "6/6 [==============================] - 0s 13ms/step - loss: 0.0038 - accuracy: 1.0000\n",
      "Epoch 50/200\n",
      "6/6 [==============================] - 0s 13ms/step - loss: 0.0028 - accuracy: 1.0000\n",
      "Epoch 51/200\n",
      "6/6 [==============================] - 0s 16ms/step - loss: 0.0021 - accuracy: 1.0000\n",
      "Epoch 52/200\n",
      "6/6 [==============================] - 0s 13ms/step - loss: 0.0016 - accuracy: 1.0000\n",
      "Epoch 53/200\n",
      "6/6 [==============================] - 0s 13ms/step - loss: 0.0032 - accuracy: 1.0000\n",
      "Epoch 54/200\n",
      "6/6 [==============================] - 0s 13ms/step - loss: 0.0026 - accuracy: 1.0000\n",
      "Epoch 55/200\n",
      "6/6 [==============================] - 0s 14ms/step - loss: 0.0020 - accuracy: 1.0000\n",
      "Epoch 56/200\n",
      "6/6 [==============================] - 0s 13ms/step - loss: 0.0027 - accuracy: 1.0000\n",
      "Epoch 57/200\n",
      "6/6 [==============================] - 0s 13ms/step - loss: 0.0018 - accuracy: 1.0000\n",
      "Epoch 58/200\n",
      "6/6 [==============================] - 0s 12ms/step - loss: 0.0036 - accuracy: 1.0000\n",
      "Epoch 59/200\n",
      "6/6 [==============================] - 0s 13ms/step - loss: 0.0022 - accuracy: 1.0000\n",
      "Epoch 60/200\n",
      "6/6 [==============================] - 0s 13ms/step - loss: 0.0015 - accuracy: 1.0000\n",
      "Epoch 61/200\n",
      "6/6 [==============================] - 0s 13ms/step - loss: 0.0019 - accuracy: 1.0000\n",
      "Epoch 62/200\n",
      "6/6 [==============================] - 0s 14ms/step - loss: 0.0022 - accuracy: 1.0000\n",
      "Epoch 63/200\n",
      "6/6 [==============================] - 0s 13ms/step - loss: 9.0089e-04 - accuracy: 1.0000\n",
      "Epoch 64/200\n",
      "6/6 [==============================] - 0s 13ms/step - loss: 0.0017 - accuracy: 1.0000\n",
      "Epoch 65/200\n",
      "6/6 [==============================] - 0s 13ms/step - loss: 0.0031 - accuracy: 1.0000\n",
      "Epoch 66/200\n",
      "6/6 [==============================] - 0s 13ms/step - loss: 0.0027 - accuracy: 1.0000\n",
      "Epoch 67/200\n",
      "6/6 [==============================] - 0s 13ms/step - loss: 0.0170 - accuracy: 1.0000\n",
      "Epoch 68/200\n",
      "6/6 [==============================] - 0s 13ms/step - loss: 0.0054 - accuracy: 1.0000\n",
      "Epoch 69/200\n",
      "6/6 [==============================] - 0s 14ms/step - loss: 0.0034 - accuracy: 1.0000\n",
      "Epoch 70/200\n",
      "6/6 [==============================] - 0s 13ms/step - loss: 0.0040 - accuracy: 1.0000\n",
      "Epoch 71/200\n",
      "6/6 [==============================] - 0s 13ms/step - loss: 0.0024 - accuracy: 1.0000\n",
      "Epoch 72/200\n",
      "6/6 [==============================] - 0s 13ms/step - loss: 0.0019 - accuracy: 1.0000\n",
      "Epoch 73/200\n",
      "6/6 [==============================] - 0s 13ms/step - loss: 0.0026 - accuracy: 1.0000\n",
      "Epoch 74/200\n",
      "6/6 [==============================] - 0s 14ms/step - loss: 0.0016 - accuracy: 1.0000\n",
      "Epoch 75/200\n",
      "6/6 [==============================] - 0s 14ms/step - loss: 0.0012 - accuracy: 1.0000\n",
      "Epoch 76/200\n",
      "6/6 [==============================] - 0s 13ms/step - loss: 0.0015 - accuracy: 1.0000\n",
      "Epoch 77/200\n",
      "6/6 [==============================] - 0s 13ms/step - loss: 0.0024 - accuracy: 1.0000\n",
      "Epoch 78/200\n",
      "6/6 [==============================] - 0s 13ms/step - loss: 0.0013 - accuracy: 1.0000\n",
      "Epoch 79/200\n",
      "6/6 [==============================] - 0s 13ms/step - loss: 7.3313e-04 - accuracy: 1.0000\n",
      "Epoch 80/200\n",
      "6/6 [==============================] - 0s 13ms/step - loss: 9.2088e-04 - accuracy: 1.0000\n",
      "Epoch 81/200\n",
      "6/6 [==============================] - 0s 14ms/step - loss: 0.0023 - accuracy: 1.0000\n",
      "Epoch 82/200\n",
      "6/6 [==============================] - 0s 14ms/step - loss: 7.1873e-04 - accuracy: 1.0000\n",
      "Epoch 83/200\n",
      "6/6 [==============================] - 0s 13ms/step - loss: 0.0014 - accuracy: 1.0000\n",
      "Epoch 84/200\n",
      "6/6 [==============================] - 0s 13ms/step - loss: 6.1450e-04 - accuracy: 1.0000\n",
      "Epoch 85/200\n",
      "6/6 [==============================] - 0s 14ms/step - loss: 7.0407e-04 - accuracy: 1.0000\n",
      "Epoch 86/200\n",
      "6/6 [==============================] - 0s 13ms/step - loss: 0.0011 - accuracy: 1.0000\n",
      "Epoch 87/200\n",
      "6/6 [==============================] - 0s 13ms/step - loss: 7.2123e-04 - accuracy: 1.0000\n",
      "Epoch 88/200\n",
      "6/6 [==============================] - 0s 14ms/step - loss: 6.5977e-04 - accuracy: 1.0000\n",
      "Epoch 89/200\n",
      "6/6 [==============================] - 0s 13ms/step - loss: 8.0314e-04 - accuracy: 1.0000\n",
      "Epoch 90/200\n",
      "6/6 [==============================] - 0s 13ms/step - loss: 8.0576e-04 - accuracy: 1.0000\n",
      "Epoch 91/200\n",
      "6/6 [==============================] - 0s 13ms/step - loss: 6.6502e-04 - accuracy: 1.0000\n",
      "Epoch 92/200\n",
      "6/6 [==============================] - 0s 14ms/step - loss: 6.1438e-04 - accuracy: 1.0000\n",
      "Epoch 93/200\n",
      "6/6 [==============================] - 0s 13ms/step - loss: 7.5525e-04 - accuracy: 1.0000\n",
      "Epoch 94/200\n",
      "6/6 [==============================] - 0s 13ms/step - loss: 0.0016 - accuracy: 1.0000\n",
      "Epoch 95/200\n",
      "6/6 [==============================] - 0s 13ms/step - loss: 5.5952e-04 - accuracy: 1.0000\n",
      "Epoch 96/200\n",
      "6/6 [==============================] - 0s 13ms/step - loss: 8.7104e-04 - accuracy: 1.0000\n",
      "Epoch 97/200\n",
      "6/6 [==============================] - 0s 13ms/step - loss: 0.0014 - accuracy: 1.0000\n",
      "Epoch 98/200\n",
      "6/6 [==============================] - 0s 13ms/step - loss: 0.0010 - accuracy: 1.0000\n",
      "Epoch 99/200\n",
      "6/6 [==============================] - 0s 13ms/step - loss: 0.0019 - accuracy: 1.0000\n",
      "Epoch 100/200\n",
      "6/6 [==============================] - 0s 13ms/step - loss: 8.4300e-04 - accuracy: 1.0000\n",
      "Epoch 101/200\n",
      "6/6 [==============================] - 0s 16ms/step - loss: 3.7004e-04 - accuracy: 1.0000\n",
      "Epoch 102/200\n",
      "6/6 [==============================] - 0s 13ms/step - loss: 4.9993e-04 - accuracy: 1.0000\n",
      "Epoch 103/200\n",
      "6/6 [==============================] - 0s 13ms/step - loss: 6.3986e-04 - accuracy: 1.0000\n",
      "Epoch 104/200\n",
      "6/6 [==============================] - 0s 13ms/step - loss: 7.2988e-04 - accuracy: 1.0000\n",
      "Epoch 105/200\n",
      "6/6 [==============================] - 0s 13ms/step - loss: 3.1094e-04 - accuracy: 1.0000\n",
      "Epoch 106/200\n",
      "6/6 [==============================] - 0s 13ms/step - loss: 4.7613e-04 - accuracy: 1.0000\n",
      "Epoch 107/200\n",
      "6/6 [==============================] - 0s 13ms/step - loss: 8.7093e-04 - accuracy: 1.0000\n",
      "Epoch 108/200\n",
      "6/6 [==============================] - 0s 14ms/step - loss: 8.8457e-04 - accuracy: 1.0000\n",
      "Epoch 109/200\n",
      "6/6 [==============================] - 0s 13ms/step - loss: 6.9665e-04 - accuracy: 1.0000\n",
      "Epoch 110/200\n",
      "6/6 [==============================] - 0s 13ms/step - loss: 4.1866e-04 - accuracy: 1.0000\n",
      "Epoch 111/200\n",
      "6/6 [==============================] - 0s 12ms/step - loss: 5.5602e-04 - accuracy: 1.0000\n",
      "Epoch 112/200\n",
      "6/6 [==============================] - 0s 13ms/step - loss: 6.7608e-04 - accuracy: 1.0000\n",
      "Epoch 113/200\n",
      "6/6 [==============================] - 0s 13ms/step - loss: 5.0658e-04 - accuracy: 1.0000\n",
      "Epoch 114/200\n",
      "6/6 [==============================] - 0s 13ms/step - loss: 4.3806e-04 - accuracy: 1.0000\n",
      "Epoch 115/200\n",
      "6/6 [==============================] - 0s 13ms/step - loss: 4.3273e-04 - accuracy: 1.0000\n",
      "Epoch 116/200\n",
      "6/6 [==============================] - 0s 13ms/step - loss: 4.8299e-04 - accuracy: 1.0000\n",
      "Epoch 117/200\n",
      "6/6 [==============================] - 0s 12ms/step - loss: 3.8506e-04 - accuracy: 1.0000\n",
      "Epoch 118/200\n",
      "6/6 [==============================] - 0s 14ms/step - loss: 3.6711e-04 - accuracy: 1.0000\n",
      "Epoch 119/200\n",
      "6/6 [==============================] - 0s 12ms/step - loss: 2.9793e-04 - accuracy: 1.0000\n",
      "Epoch 120/200\n",
      "6/6 [==============================] - 0s 12ms/step - loss: 3.7828e-04 - accuracy: 1.0000\n",
      "Epoch 121/200\n",
      "6/6 [==============================] - 0s 12ms/step - loss: 2.3163e-04 - accuracy: 1.0000\n",
      "Epoch 122/200\n",
      "6/6 [==============================] - 0s 12ms/step - loss: 3.6167e-04 - accuracy: 1.0000\n",
      "Epoch 123/200\n",
      "6/6 [==============================] - 0s 12ms/step - loss: 3.7445e-04 - accuracy: 1.0000\n",
      "Epoch 124/200\n",
      "6/6 [==============================] - 0s 12ms/step - loss: 1.9730e-04 - accuracy: 1.0000\n",
      "Epoch 125/200\n",
      "6/6 [==============================] - 0s 12ms/step - loss: 3.9706e-04 - accuracy: 1.0000\n",
      "Epoch 126/200\n",
      "6/6 [==============================] - 0s 12ms/step - loss: 2.2276e-04 - accuracy: 1.0000\n",
      "Epoch 127/200\n",
      "6/6 [==============================] - 0s 12ms/step - loss: 5.0228e-04 - accuracy: 1.0000\n",
      "Epoch 128/200\n",
      "6/6 [==============================] - 0s 12ms/step - loss: 8.2940e-04 - accuracy: 1.0000\n",
      "Epoch 129/200\n",
      "6/6 [==============================] - 0s 12ms/step - loss: 3.9673e-04 - accuracy: 1.0000\n",
      "Epoch 130/200\n",
      "6/6 [==============================] - 0s 12ms/step - loss: 3.5677e-04 - accuracy: 1.0000\n",
      "Epoch 131/200\n",
      "6/6 [==============================] - 0s 13ms/step - loss: 2.4714e-04 - accuracy: 1.0000\n",
      "Epoch 132/200\n",
      "6/6 [==============================] - 0s 12ms/step - loss: 3.4681e-04 - accuracy: 1.0000\n",
      "Epoch 133/200\n",
      "6/6 [==============================] - 0s 12ms/step - loss: 4.8729e-04 - accuracy: 1.0000\n",
      "Epoch 134/200\n",
      "6/6 [==============================] - 0s 12ms/step - loss: 2.6625e-04 - accuracy: 1.0000\n",
      "Epoch 135/200\n",
      "6/6 [==============================] - 0s 15ms/step - loss: 1.7055e-04 - accuracy: 1.0000\n",
      "Epoch 136/200\n",
      "6/6 [==============================] - 0s 12ms/step - loss: 2.2312e-04 - accuracy: 1.0000\n",
      "Epoch 137/200\n",
      "6/6 [==============================] - 0s 12ms/step - loss: 4.3536e-04 - accuracy: 1.0000\n",
      "Epoch 138/200\n",
      "6/6 [==============================] - 0s 11ms/step - loss: 6.7101e-04 - accuracy: 1.0000\n",
      "Epoch 139/200\n",
      "6/6 [==============================] - 0s 11ms/step - loss: 4.6985e-04 - accuracy: 1.0000\n",
      "Epoch 140/200\n",
      "6/6 [==============================] - 0s 12ms/step - loss: 2.6762e-04 - accuracy: 1.0000\n",
      "Epoch 141/200\n",
      "6/6 [==============================] - 0s 12ms/step - loss: 1.7131e-04 - accuracy: 1.0000\n",
      "Epoch 142/200\n",
      "6/6 [==============================] - 0s 12ms/step - loss: 3.0170e-04 - accuracy: 1.0000\n",
      "Epoch 143/200\n",
      "6/6 [==============================] - 0s 12ms/step - loss: 3.7366e-04 - accuracy: 1.0000\n",
      "Epoch 144/200\n",
      "6/6 [==============================] - 0s 13ms/step - loss: 2.6697e-04 - accuracy: 1.0000\n",
      "Epoch 145/200\n",
      "6/6 [==============================] - 0s 12ms/step - loss: 3.0218e-04 - accuracy: 1.0000\n",
      "Epoch 146/200\n",
      "6/6 [==============================] - 0s 12ms/step - loss: 3.1224e-04 - accuracy: 1.0000\n",
      "Epoch 147/200\n",
      "6/6 [==============================] - 0s 12ms/step - loss: 3.0117e-04 - accuracy: 1.0000\n",
      "Epoch 148/200\n",
      "6/6 [==============================] - 0s 12ms/step - loss: 1.8764e-04 - accuracy: 1.0000\n",
      "Epoch 149/200\n",
      "6/6 [==============================] - 0s 12ms/step - loss: 5.3637e-04 - accuracy: 1.0000\n",
      "Epoch 150/200\n",
      "6/6 [==============================] - 0s 12ms/step - loss: 3.3256e-04 - accuracy: 1.0000\n",
      "Epoch 151/200\n",
      "6/6 [==============================] - 0s 12ms/step - loss: 2.6365e-04 - accuracy: 1.0000\n",
      "Epoch 152/200\n",
      "6/6 [==============================] - 0s 14ms/step - loss: 2.9381e-04 - accuracy: 1.0000\n",
      "Epoch 153/200\n",
      "6/6 [==============================] - 0s 12ms/step - loss: 2.8537e-04 - accuracy: 1.0000\n",
      "Epoch 154/200\n",
      "6/6 [==============================] - 0s 12ms/step - loss: 7.8450e-05 - accuracy: 1.0000\n",
      "Epoch 155/200\n",
      "6/6 [==============================] - 0s 12ms/step - loss: 1.9917e-04 - accuracy: 1.0000\n",
      "Epoch 156/200\n",
      "6/6 [==============================] - 0s 12ms/step - loss: 1.5872e-04 - accuracy: 1.0000\n",
      "Epoch 157/200\n",
      "6/6 [==============================] - 0s 12ms/step - loss: 1.9921e-04 - accuracy: 1.0000\n",
      "Epoch 158/200\n",
      "6/6 [==============================] - 0s 12ms/step - loss: 6.7037e-04 - accuracy: 1.0000\n",
      "Epoch 159/200\n",
      "6/6 [==============================] - 0s 12ms/step - loss: 1.4948e-04 - accuracy: 1.0000\n",
      "Epoch 160/200\n",
      "6/6 [==============================] - 0s 12ms/step - loss: 7.2726e-04 - accuracy: 1.0000\n",
      "Epoch 161/200\n",
      "6/6 [==============================] - 0s 12ms/step - loss: 2.5459e-04 - accuracy: 1.0000\n",
      "Epoch 162/200\n",
      "6/6 [==============================] - 0s 12ms/step - loss: 2.8813e-04 - accuracy: 1.0000\n",
      "Epoch 163/200\n",
      "6/6 [==============================] - 0s 12ms/step - loss: 3.1896e-04 - accuracy: 1.0000\n",
      "Epoch 164/200\n",
      "6/6 [==============================] - 0s 12ms/step - loss: 2.5264e-04 - accuracy: 1.0000\n",
      "Epoch 165/200\n",
      "6/6 [==============================] - 0s 12ms/step - loss: 1.2233e-04 - accuracy: 1.0000\n",
      "Epoch 166/200\n",
      "6/6 [==============================] - 0s 12ms/step - loss: 5.6096e-04 - accuracy: 1.0000\n",
      "Epoch 167/200\n",
      "6/6 [==============================] - 0s 11ms/step - loss: 6.3909e-04 - accuracy: 1.0000\n",
      "Epoch 168/200\n",
      "6/6 [==============================] - 0s 12ms/step - loss: 1.9159e-04 - accuracy: 1.0000\n",
      "Epoch 169/200\n",
      "6/6 [==============================] - 0s 15ms/step - loss: 1.5390e-04 - accuracy: 1.0000\n",
      "Epoch 170/200\n",
      "6/6 [==============================] - 0s 12ms/step - loss: 4.6055e-04 - accuracy: 1.0000\n",
      "Epoch 171/200\n",
      "6/6 [==============================] - 0s 12ms/step - loss: 2.2822e-04 - accuracy: 1.0000\n",
      "Epoch 172/200\n",
      "6/6 [==============================] - 0s 13ms/step - loss: 2.7414e-04 - accuracy: 1.0000\n",
      "Epoch 173/200\n",
      "6/6 [==============================] - 0s 11ms/step - loss: 3.3052e-04 - accuracy: 1.0000\n",
      "Epoch 174/200\n",
      "6/6 [==============================] - 0s 12ms/step - loss: 4.4327e-04 - accuracy: 1.0000\n",
      "Epoch 175/200\n",
      "6/6 [==============================] - 0s 12ms/step - loss: 2.1890e-04 - accuracy: 1.0000\n",
      "Epoch 176/200\n",
      "6/6 [==============================] - 0s 11ms/step - loss: 1.8246e-04 - accuracy: 1.0000\n",
      "Epoch 177/200\n",
      "6/6 [==============================] - 0s 12ms/step - loss: 2.9186e-04 - accuracy: 1.0000\n",
      "Epoch 178/200\n",
      "6/6 [==============================] - 0s 12ms/step - loss: 2.7086e-04 - accuracy: 1.0000\n",
      "Epoch 179/200\n",
      "6/6 [==============================] - 0s 12ms/step - loss: 1.6390e-04 - accuracy: 1.0000\n",
      "Epoch 180/200\n",
      "6/6 [==============================] - 0s 13ms/step - loss: 2.2429e-04 - accuracy: 1.0000\n",
      "Epoch 181/200\n",
      "6/6 [==============================] - 0s 12ms/step - loss: 9.8242e-05 - accuracy: 1.0000\n",
      "Epoch 182/200\n",
      "6/6 [==============================] - 0s 12ms/step - loss: 3.1909e-04 - accuracy: 1.0000\n",
      "Epoch 183/200\n",
      "6/6 [==============================] - 0s 12ms/step - loss: 1.5391e-04 - accuracy: 1.0000\n",
      "Epoch 184/200\n",
      "6/6 [==============================] - 0s 15ms/step - loss: 2.5275e-04 - accuracy: 1.0000\n",
      "Epoch 185/200\n",
      "6/6 [==============================] - 0s 12ms/step - loss: 9.8105e-05 - accuracy: 1.0000\n",
      "Epoch 186/200\n",
      "6/6 [==============================] - 0s 12ms/step - loss: 2.4502e-04 - accuracy: 1.0000\n",
      "Epoch 187/200\n",
      "6/6 [==============================] - 0s 12ms/step - loss: 1.7413e-04 - accuracy: 1.0000\n",
      "Epoch 188/200\n",
      "6/6 [==============================] - 0s 12ms/step - loss: 1.4144e-04 - accuracy: 1.0000\n",
      "Epoch 189/200\n",
      "6/6 [==============================] - 0s 12ms/step - loss: 2.6334e-04 - accuracy: 1.0000\n",
      "Epoch 190/200\n",
      "6/6 [==============================] - 0s 11ms/step - loss: 1.0183e-04 - accuracy: 1.0000\n",
      "Epoch 191/200\n",
      "6/6 [==============================] - 0s 12ms/step - loss: 4.7301e-04 - accuracy: 1.0000\n",
      "Epoch 192/200\n",
      "6/6 [==============================] - 0s 12ms/step - loss: 1.0651e-04 - accuracy: 1.0000\n",
      "Epoch 193/200\n",
      "6/6 [==============================] - 0s 12ms/step - loss: 3.6511e-04 - accuracy: 1.0000\n",
      "Epoch 194/200\n",
      "6/6 [==============================] - 0s 12ms/step - loss: 1.8457e-04 - accuracy: 1.0000\n",
      "Epoch 195/200\n",
      "6/6 [==============================] - 0s 12ms/step - loss: 1.9257e-04 - accuracy: 1.0000\n",
      "Epoch 196/200\n",
      "6/6 [==============================] - 0s 11ms/step - loss: 1.6158e-04 - accuracy: 1.0000\n",
      "Epoch 197/200\n",
      "6/6 [==============================] - 0s 12ms/step - loss: 3.8870e-04 - accuracy: 1.0000\n",
      "Epoch 198/200\n",
      "6/6 [==============================] - 0s 12ms/step - loss: 2.8848e-04 - accuracy: 1.0000\n",
      "Epoch 199/200\n",
      "6/6 [==============================] - 0s 12ms/step - loss: 1.5089e-04 - accuracy: 1.0000\n",
      "Epoch 200/200\n",
      "6/6 [==============================] - 0s 15ms/step - loss: 8.5976e-05 - accuracy: 1.0000\n"
     ]
    }
   ],
   "source": [
    "h=model.fit(X_train,y_train,epochs=200,batch_size=10,)"
   ]
  },
  {
   "cell_type": "code",
   "execution_count": 15,
   "id": "e021607d",
   "metadata": {},
   "outputs": [
    {
     "name": "stdout",
     "output_type": "stream",
     "text": [
      "1/1 [==============================] - 0s 258ms/step\n"
     ]
    }
   ],
   "source": [
    "y_pred=model.predict(X_test)\n",
    "y_pred=(y_pred> 0.5).astype(\"int32\")  "
   ]
  },
  {
   "cell_type": "code",
   "execution_count": 16,
   "id": "a7756915",
   "metadata": {},
   "outputs": [
    {
     "name": "stdout",
     "output_type": "stream",
     "text": [
      "1/1 [==============================] - 0s 14ms/step\n",
      "              precision    recall  f1-score   support\n",
      "\n",
      "           0       0.50      0.29      0.36         7\n",
      "           1       0.25      0.17      0.20         6\n",
      "           2       0.12      1.00      0.22         1\n",
      "           3       0.00      0.00      0.00         6\n",
      "           4       0.71      0.83      0.77         6\n",
      "\n",
      "    accuracy                           0.35        26\n",
      "   macro avg       0.32      0.46      0.31        26\n",
      "weighted avg       0.36      0.35      0.33        26\n",
      "\n",
      "[[2 0 3 1 1]\n",
      " [1 1 2 2 0]\n",
      " [0 0 1 0 0]\n",
      " [0 3 2 0 1]\n",
      " [1 0 0 0 5]]\n"
     ]
    }
   ],
   "source": [
    "# پیش‌بینی احتمالات\n",
    "y_pred = model.predict(X_test)\n",
    "\n",
    "# انتخاب کلاس با بیشترین احتمال\n",
    "y_pred_classes = np.argmax(y_pred, axis=1)\n",
    "\n",
    "# حالا می‌تونی مقایسه کنی\n",
    "from sklearn.metrics import classification_report, confusion_matrix\n",
    "\n",
    "print(classification_report(y_test, y_pred_classes))\n",
    "print(confusion_matrix(y_test, y_pred_classes))\n"
   ]
  },
  {
   "cell_type": "code",
   "execution_count": 17,
   "id": "355eac21",
   "metadata": {},
   "outputs": [
    {
     "data": {
      "image/png": "[encoded data removed]",
      "text/plain": [
       "<Figure size 600x500 with 2 Axes>"
      ]
     },
     "metadata": {},
     "output_type": "display_data"
    }
   ],
   "source": [
    "import seaborn as sns\n",
    "\n",
    "cm = confusion_matrix(y_test, y_pred_classes)\n",
    "plt.figure(figsize=(6,5))\n",
    "sns.heatmap(cm, annot=True, fmt=\"d\", cmap=\"Blues\")\n",
    "plt.xlabel(\"Predicted\")\n",
    "plt.ylabel(\"True\")\n",
    "plt.show()\n"
   ]
  },
  {
   "cell_type": "code",
   "execution_count": 18,
   "id": "dd992977",
   "metadata": {},
   "outputs": [
    {
     "ename": "ValueError",
     "evalue": "Classification metrics can't handle a mix of multiclass and continuous-multioutput targets",
     "output_type": "error",
     "traceback": [
      "\u001b[1;31m---------------------------------------------------------------------------\u001b[0m",
      "\u001b[1;31mValueError\u001b[0m                                Traceback (most recent call last)",
      "Cell \u001b[1;32mIn[18], line 3\u001b[0m\n\u001b[0;32m      1\u001b[0m \u001b[38;5;28;01mfrom\u001b[39;00m \u001b[38;5;21;01msklearn\u001b[39;00m\u001b[38;5;21;01m.\u001b[39;00m\u001b[38;5;21;01mmetrics\u001b[39;00m \u001b[38;5;28;01mimport\u001b[39;00m classification_report, confusion_matrix\n\u001b[1;32m----> 3\u001b[0m \u001b[38;5;28mprint\u001b[39m(\u001b[43mclassification_report\u001b[49m\u001b[43m(\u001b[49m\u001b[43my_test\u001b[49m\u001b[43m,\u001b[49m\u001b[43m \u001b[49m\u001b[43my_pred\u001b[49m\u001b[43m)\u001b[49m)\n\u001b[0;32m      4\u001b[0m \u001b[38;5;28mprint\u001b[39m(confusion_matrix(y_test, y_pred))\n",
      "File \u001b[1;32m~\\AppData\\Roaming\\Python\\Python38\\site-packages\\sklearn\\utils\\_param_validation.py:214\u001b[0m, in \u001b[0;36mvalidate_params.<locals>.decorator.<locals>.wrapper\u001b[1;34m(*args, **kwargs)\u001b[0m\n\u001b[0;32m    208\u001b[0m \u001b[38;5;28;01mtry\u001b[39;00m:\n\u001b[0;32m    209\u001b[0m     \u001b[38;5;28;01mwith\u001b[39;00m config_context(\n\u001b[0;32m    210\u001b[0m         skip_parameter_validation\u001b[38;5;241m=\u001b[39m(\n\u001b[0;32m    211\u001b[0m             prefer_skip_nested_validation \u001b[38;5;129;01mor\u001b[39;00m global_skip_validation\n\u001b[0;32m    212\u001b[0m         )\n\u001b[0;32m    213\u001b[0m     ):\n\u001b[1;32m--> 214\u001b[0m         \u001b[38;5;28;01mreturn\u001b[39;00m \u001b[43mfunc\u001b[49m\u001b[43m(\u001b[49m\u001b[38;5;241;43m*\u001b[39;49m\u001b[43margs\u001b[49m\u001b[43m,\u001b[49m\u001b[43m \u001b[49m\u001b[38;5;241;43m*\u001b[39;49m\u001b[38;5;241;43m*\u001b[39;49m\u001b[43mkwargs\u001b[49m\u001b[43m)\u001b[49m\n\u001b[0;32m    215\u001b[0m \u001b[38;5;28;01mexcept\u001b[39;00m InvalidParameterError \u001b[38;5;28;01mas\u001b[39;00m e:\n\u001b[0;32m    216\u001b[0m     \u001b[38;5;66;03m# When the function is just a wrapper around an estimator, we allow\u001b[39;00m\n\u001b[0;32m    217\u001b[0m     \u001b[38;5;66;03m# the function to delegate validation to the estimator, but we replace\u001b[39;00m\n\u001b[0;32m    218\u001b[0m     \u001b[38;5;66;03m# the name of the estimator by the name of the function in the error\u001b[39;00m\n\u001b[0;32m    219\u001b[0m     \u001b[38;5;66;03m# message to avoid confusion.\u001b[39;00m\n\u001b[0;32m    220\u001b[0m     msg \u001b[38;5;241m=\u001b[39m re\u001b[38;5;241m.\u001b[39msub(\n\u001b[0;32m    221\u001b[0m         \u001b[38;5;124mr\u001b[39m\u001b[38;5;124m\"\u001b[39m\u001b[38;5;124mparameter of \u001b[39m\u001b[38;5;124m\\\u001b[39m\u001b[38;5;124mw+ must be\u001b[39m\u001b[38;5;124m\"\u001b[39m,\n\u001b[0;32m    222\u001b[0m         \u001b[38;5;124mf\u001b[39m\u001b[38;5;124m\"\u001b[39m\u001b[38;5;124mparameter of \u001b[39m\u001b[38;5;132;01m{\u001b[39;00mfunc\u001b[38;5;241m.\u001b[39m\u001b[38;5;18m__qualname__\u001b[39m\u001b[38;5;132;01m}\u001b[39;00m\u001b[38;5;124m must be\u001b[39m\u001b[38;5;124m\"\u001b[39m,\n\u001b[0;32m    223\u001b[0m         \u001b[38;5;28mstr\u001b[39m(e),\n\u001b[0;32m    224\u001b[0m     )\n",
      "File \u001b[1;32m~\\AppData\\Roaming\\Python\\Python38\\site-packages\\sklearn\\metrics\\_classification.py:2545\u001b[0m, in \u001b[0;36mclassification_report\u001b[1;34m(y_true, y_pred, labels, target_names, sample_weight, digits, output_dict, zero_division)\u001b[0m\n\u001b[0;32m   2410\u001b[0m \u001b[38;5;129m@validate_params\u001b[39m(\n\u001b[0;32m   2411\u001b[0m     {\n\u001b[0;32m   2412\u001b[0m         \u001b[38;5;124m\"\u001b[39m\u001b[38;5;124my_true\u001b[39m\u001b[38;5;124m\"\u001b[39m: [\u001b[38;5;124m\"\u001b[39m\u001b[38;5;124marray-like\u001b[39m\u001b[38;5;124m\"\u001b[39m, \u001b[38;5;124m\"\u001b[39m\u001b[38;5;124msparse matrix\u001b[39m\u001b[38;5;124m\"\u001b[39m],\n\u001b[1;32m   (...)\u001b[0m\n\u001b[0;32m   2436\u001b[0m     zero_division\u001b[38;5;241m=\u001b[39m\u001b[38;5;124m\"\u001b[39m\u001b[38;5;124mwarn\u001b[39m\u001b[38;5;124m\"\u001b[39m,\n\u001b[0;32m   2437\u001b[0m ):\n\u001b[0;32m   2438\u001b[0m \u001b[38;5;250m    \u001b[39m\u001b[38;5;124;03m\"\"\"Build a text report showing the main classification metrics.\u001b[39;00m\n\u001b[0;32m   2439\u001b[0m \n\u001b[0;32m   2440\u001b[0m \u001b[38;5;124;03m    Read more in the :ref:`User Guide <classification_report>`.\u001b[39;00m\n\u001b[1;32m   (...)\u001b[0m\n\u001b[0;32m   2542\u001b[0m \u001b[38;5;124;03m    <BLANKLINE>\u001b[39;00m\n\u001b[0;32m   2543\u001b[0m \u001b[38;5;124;03m    \"\"\"\u001b[39;00m\n\u001b[1;32m-> 2545\u001b[0m     y_type, y_true, y_pred \u001b[38;5;241m=\u001b[39m \u001b[43m_check_targets\u001b[49m\u001b[43m(\u001b[49m\u001b[43my_true\u001b[49m\u001b[43m,\u001b[49m\u001b[43m \u001b[49m\u001b[43my_pred\u001b[49m\u001b[43m)\u001b[49m\n\u001b[0;32m   2547\u001b[0m     \u001b[38;5;28;01mif\u001b[39;00m labels \u001b[38;5;129;01mis\u001b[39;00m \u001b[38;5;28;01mNone\u001b[39;00m:\n\u001b[0;32m   2548\u001b[0m         labels \u001b[38;5;241m=\u001b[39m unique_labels(y_true, y_pred)\n",
      "File \u001b[1;32m~\\AppData\\Roaming\\Python\\Python38\\site-packages\\sklearn\\metrics\\_classification.py:93\u001b[0m, in \u001b[0;36m_check_targets\u001b[1;34m(y_true, y_pred)\u001b[0m\n\u001b[0;32m     90\u001b[0m     y_type \u001b[38;5;241m=\u001b[39m {\u001b[38;5;124m\"\u001b[39m\u001b[38;5;124mmulticlass\u001b[39m\u001b[38;5;124m\"\u001b[39m}\n\u001b[0;32m     92\u001b[0m \u001b[38;5;28;01mif\u001b[39;00m \u001b[38;5;28mlen\u001b[39m(y_type) \u001b[38;5;241m>\u001b[39m \u001b[38;5;241m1\u001b[39m:\n\u001b[1;32m---> 93\u001b[0m     \u001b[38;5;28;01mraise\u001b[39;00m \u001b[38;5;167;01mValueError\u001b[39;00m(\n\u001b[0;32m     94\u001b[0m         \u001b[38;5;124m\"\u001b[39m\u001b[38;5;124mClassification metrics can\u001b[39m\u001b[38;5;124m'\u001b[39m\u001b[38;5;124mt handle a mix of \u001b[39m\u001b[38;5;132;01m{0}\u001b[39;00m\u001b[38;5;124m and \u001b[39m\u001b[38;5;132;01m{1}\u001b[39;00m\u001b[38;5;124m targets\u001b[39m\u001b[38;5;124m\"\u001b[39m\u001b[38;5;241m.\u001b[39mformat(\n\u001b[0;32m     95\u001b[0m             type_true, type_pred\n\u001b[0;32m     96\u001b[0m         )\n\u001b[0;32m     97\u001b[0m     )\n\u001b[0;32m     99\u001b[0m \u001b[38;5;66;03m# We can't have more than one value on y_type => The set is no more needed\u001b[39;00m\n\u001b[0;32m    100\u001b[0m y_type \u001b[38;5;241m=\u001b[39m y_type\u001b[38;5;241m.\u001b[39mpop()\n",
      "\u001b[1;31mValueError\u001b[0m: Classification metrics can't handle a mix of multiclass and continuous-multioutput targets"
     ]
    }
   ],
   "source": [
    "from sklearn.metrics import classification_report, confusion_matrix\n",
    "\n",
    "print(classification_report(y_test, y_pred))\n",
    "print(confusion_matrix(y_test, y_pred))"
   ]
  }
 ],
 "metadata": {
  "kernelspec": {
   "display_name": "Python 3",
   "language": "python",
   "name": "python3"
  },
  "language_info": {
   "codemirror_mode": {
    "name": "ipython",
    "version": 3
   },
   "file_extension": ".py",
   "mimetype": "text/x-python",
   "name": "python",
   "nbconvert_exporter": "python",
   "pygments_lexer": "ipython3",
   "version": "3.8.8"
  }
 },
 "nbformat": 4,
 "nbformat_minor": 5
}
